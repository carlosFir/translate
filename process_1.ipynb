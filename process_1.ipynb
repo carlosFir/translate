{
 "cells": [
  {
   "cell_type": "code",
   "execution_count": 52,
   "metadata": {},
   "outputs": [
    {
     "name": "stdout",
     "output_type": "stream",
     "text": [
      "/home/Zhouyu/MODEL/translate\n"
     ]
    }
   ],
   "source": [
    "import torch \n",
    "from sklearn.model_selection import train_test_split\n",
    "import rdkit\n",
    "\n",
    "import random\n",
    "import re\n",
    "from tqdm import tqdm\n",
    "import numpy as np\n",
    "import pandas as pd\n",
    "from matplotlib import pyplot as plt\n",
    "import unicodedata\n",
    "import datetime\n",
    "import time\n",
    "import copy\n",
    "\n",
    "import os\n",
    "print(os.getcwd())"
   ]
  },
  {
   "cell_type": "code",
   "execution_count": 53,
   "metadata": {},
   "outputs": [
    {
     "name": "stdout",
     "output_type": "stream",
     "text": [
      "cuda:0\n"
     ]
    }
   ],
   "source": [
    "ngpu = 4\n",
    "\n",
    "use_cuda = torch.cuda.is_available()\n",
    "device = torch.device(\"cuda:0\" if (use_cuda and ngpu > 0) else \"cpu\")\n",
    "print(device)"
   ]
  },
  {
   "cell_type": "code",
   "execution_count": 54,
   "metadata": {},
   "outputs": [],
   "source": [
    "cwd = os.getcwd()\n",
    "data_dir = cwd + '/data/'"
   ]
  },
  {
   "cell_type": "code",
   "execution_count": 55,
   "metadata": {},
   "outputs": [],
   "source": [
    "data_df = pd.read_csv(data_dir + 'uspto_data.txt', names=['reactant->reagent->product'],\n",
    "                      nrows=250000)"
   ]
  },
  {
   "cell_type": "code",
   "execution_count": 56,
   "metadata": {},
   "outputs": [],
   "source": [
    "\n",
    "data_df[['reactant', 'reagent', 'product']]= data_df['reactant->reagent->product'].str.split('>', expand=True)"
   ]
  },
  {
   "cell_type": "code",
   "execution_count": 57,
   "metadata": {},
   "outputs": [],
   "source": [
    "data_df.drop('reactant->reagent->product', axis=1, inplace=True)\n"
   ]
  },
  {
   "cell_type": "code",
   "execution_count": null,
   "metadata": {},
   "outputs": [],
   "source": []
  },
  {
   "cell_type": "code",
   "execution_count": 58,
   "metadata": {},
   "outputs": [],
   "source": [
    "data_df.to_csv('ustpo250k.csv', index=False)"
   ]
  },
  {
   "cell_type": "code",
   "execution_count": 64,
   "metadata": {},
   "outputs": [
    {
     "data": {
      "text/plain": [
       "array(['C(C(CCCC)C[OH:5])C.C(N(CC)CC)C.[C:17]1([CH2:23][C:24](Cl)=[O:25])[CH:22]=[CH:21][CH:20]=[CH:19][CH:18]=1',\n",
       "       'C(Cl)Cl',\n",
       "       '[C:17]1([CH2:23][C:24]([OH:25])=[O:5])[CH:22]=[CH:21][CH:20]=[CH:19][CH:18]=1'],\n",
       "      dtype=object)"
      ]
     },
     "execution_count": 64,
     "metadata": {},
     "output_type": "execute_result"
    }
   ],
   "source": [
    "data_df.values[8]"
   ]
  },
  {
   "cell_type": "code",
   "execution_count": 65,
   "metadata": {},
   "outputs": [],
   "source": [
    "mol = rdkit.Chem.MolFromSmiles('[C:17]1([CH2:23][C:24]([OH:25])=[O:5])[CH:22]=[CH:21][CH:20]=[CH:19][CH:18]=1')"
   ]
  },
  {
   "cell_type": "code",
   "execution_count": 66,
   "metadata": {},
   "outputs": [],
   "source": [
    "smiles = rdkit.Chem.MolToSmiles(mol)"
   ]
  },
  {
   "cell_type": "code",
   "execution_count": 67,
   "metadata": {},
   "outputs": [
    {
     "data": {
      "text/plain": [
       "'[O:5]=[C:24]([CH2:23][c:17]1[cH:18][cH:19][cH:20][cH:21][cH:22]1)[OH:25]'"
      ]
     },
     "execution_count": 67,
     "metadata": {},
     "output_type": "execute_result"
    }
   ],
   "source": [
    "smiles"
   ]
  },
  {
   "cell_type": "code",
   "execution_count": 68,
   "metadata": {},
   "outputs": [
    {
     "data": {
      "image/png": "[encoded data removed]",
      "text/plain": [
       "<rdkit.Chem.rdchem.Mol at 0x1551e1d3a7b0>"
      ]
     },
     "execution_count": 68,
     "metadata": {},
     "output_type": "execute_result"
    }
   ],
   "source": [
    "mol"
   ]
  },
  {
   "cell_type": "code",
   "execution_count": 69,
   "metadata": {},
   "outputs": [],
   "source": [
    "new_mol = rdkit.Chem.MolFromSmiles('[O:5]=[C:24]([CH2:23][c:17]1[cH:18][cH:19][cH:20][cH:21][cH:22]1)[OH:25]')"
   ]
  },
  {
   "cell_type": "code",
   "execution_count": 71,
   "metadata": {},
   "outputs": [],
   "source": [
    "new_smiles = rdkit.Chem.MolToSmiles(new_mol)"
   ]
  },
  {
   "cell_type": "code",
   "execution_count": 72,
   "metadata": {},
   "outputs": [
    {
     "data": {
      "text/plain": [
       "'[O:5]=[C:24]([CH2:23][c:17]1[cH:18][cH:19][cH:20][cH:21][cH:22]1)[OH:25]'"
      ]
     },
     "execution_count": 72,
     "metadata": {},
     "output_type": "execute_result"
    }
   ],
   "source": [
    "new_smiles"
   ]
  },
  {
   "cell_type": "code",
   "execution_count": 73,
   "metadata": {},
   "outputs": [],
   "source": [
    "for atom in mol.GetAtoms():\n",
    "    atom.SetAtomMapNum(0)"
   ]
  },
  {
   "cell_type": "code",
   "execution_count": 74,
   "metadata": {},
   "outputs": [
    {
     "data": {
      "image/png": "[encoded data removed]",
      "text/plain": [
       "<rdkit.Chem.rdchem.Mol at 0x1551e1d3a7b0>"
      ]
     },
     "execution_count": 74,
     "metadata": {},
     "output_type": "execute_result"
    }
   ],
   "source": [
    "mol"
   ]
  },
  {
   "cell_type": "code",
   "execution_count": 84,
   "metadata": {},
   "outputs": [
    {
     "name": "stdout",
     "output_type": "stream",
     "text": [
      "0         [C:1]([C:5]1[CH:10]=[CH:9][C:8]([OH:11])=[CH:7...\n",
      "1         [Cl-].[Al+3].[Cl-].[Cl-].[Cl:5][CH2:6][CH2:7][...\n",
      "2         [Al+3].[Cl-].[Cl-].[Cl-].[Cl:5][CH2:6][CH2:7][...\n",
      "3         [Cl:1][CH2:2][CH2:3][CH2:4][C:5]([C:7]1[CH:12]...\n",
      "4         [Cl:1][CH2:2][CH2:3][CH2:4][C:5]([C:7]1[CH:12]...\n",
      "                                ...                        \n",
      "249995    [O:1]1[C:5]2[CH:6]=[CH:7][C:8]([C:10]([C:12]3[...\n",
      "249996    [CH2:1]([O:3][C:4]1[CH:5]=[C:6]([CH:9]=[CH:10]...\n",
      "249997    [O:1]1[C:6]2[CH:7]=[CH:8][C:9]([C:11]([C:13]3[...\n",
      "249998    [CH3:1][O:2][C:3]1[CH:4]=[C:5]([CH:9]=[C:10]([...\n",
      "249999    [CH3:1][O:2][C:3]1[CH:4]=[C:5]([C:11]([C:13]2[...\n",
      "Name: reactant, Length: 250000, dtype: object\n",
      "[C:1]([C:5]1[CH:10]=[CH:9][C:8]([OH:11])=[CH:7][CH:6]=1)([CH3:4])([CH3:3])[CH3:2]\n",
      "CC(C)(C)c1ccc(O)cc1\n"
     ]
    }
   ],
   "source": [
    "for col in data_df.columns:\n",
    "    mol_series = data_df[col]\n",
    "    print(mol_series)\n",
    "    for mol in mol_series.values:\n",
    "        print(mol)\n",
    "        mol = rdkit.Chem.MolFromSmiles(mol)\n",
    "        for atom in mol.GetAtoms():\n",
    "            atom.SetAtomMapNum(0)\n",
    "        mol = rdkit.Chem.MolToSmiles(mol)\n",
    "        print(mol)\n",
    "        break\n",
    "    break"
   ]
  },
  {
   "cell_type": "code",
   "execution_count": 110,
   "metadata": {},
   "outputs": [],
   "source": [
    "def smiles(smiles):\n",
    "    \n",
    "    mol = rdkit.Chem.MolFromSmiles(smiles)\n",
    "    if mol is None:\n",
    "        return \n",
    "    for atom in mol.GetAtoms():\n",
    "        atom.SetAtomMapNum(0)\n",
    "    return rdkit.Chem.MolToSmiles(mol)"
   ]
  },
  {
   "cell_type": "code",
   "execution_count": 114,
   "metadata": {},
   "outputs": [],
   "source": [
    "for col in data_df.columns:\n",
    "    data_df[col] = data_df[col].apply(smiles)"
   ]
  },
  {
   "cell_type": "code",
   "execution_count": 115,
   "metadata": {},
   "outputs": [
    {
     "data": {
      "text/html": [
       "<div>\n",
       "<style scoped>\n",
       "    .dataframe tbody tr th:only-of-type {\n",
       "        vertical-align: middle;\n",
       "    }\n",
       "\n",
       "    .dataframe tbody tr th {\n",
       "        vertical-align: top;\n",
       "    }\n",
       "\n",
       "    .dataframe thead th {\n",
       "        text-align: right;\n",
       "    }\n",
       "</style>\n",
       "<table border=\"1\" class=\"dataframe\">\n",
       "  <thead>\n",
       "    <tr style=\"text-align: right;\">\n",
       "      <th></th>\n",
       "      <th>reactant</th>\n",
       "      <th>reagent</th>\n",
       "      <th>product</th>\n",
       "    </tr>\n",
       "  </thead>\n",
       "  <tbody>\n",
       "    <tr>\n",
       "      <th>0</th>\n",
       "      <td>CC(C)(C)c1ccc(O)cc1</td>\n",
       "      <td>[Ni]</td>\n",
       "      <td>CC(C)(C)C1CCC(O)CC1</td>\n",
       "    </tr>\n",
       "    <tr>\n",
       "      <th>1</th>\n",
       "      <td>CC(C)c1ccccc1.O=C(Cl)CCCCl.[Al+3].[Cl-].[Cl-]....</td>\n",
       "      <td>ClCCl</td>\n",
       "      <td>CC(C)c1ccc(C(=O)CCCCl)cc1</td>\n",
       "    </tr>\n",
       "    <tr>\n",
       "      <th>2</th>\n",
       "      <td>Cc1ccccc1.O=C(Cl)CCCCl.[Al+3].[Cl-].[Cl-].[Cl-]</td>\n",
       "      <td></td>\n",
       "      <td>Cc1ccc(C(=O)CCCCl)cc1</td>\n",
       "    </tr>\n",
       "    <tr>\n",
       "      <th>3</th>\n",
       "      <td>CC(C)c1ccc(C(=O)CCCCl)cc1.O=C(OOC(=O)c1ccccc1)...</td>\n",
       "      <td>ClC(Cl)(Cl)Cl</td>\n",
       "      <td>CC(C)(Br)c1ccc(C(=O)CCCCl)cc1</td>\n",
       "    </tr>\n",
       "    <tr>\n",
       "      <th>4</th>\n",
       "      <td>CC(C)c1ccc(C(=O)CCCCl)cc1.O=C1CCC(=O)N1Br</td>\n",
       "      <td>CC(C)(C#N)N=NC(C)(C)C#N.ClC(Cl)(Cl)Cl</td>\n",
       "      <td>CC(C)(Br)c1ccc(C(=O)CCCCl)cc1</td>\n",
       "    </tr>\n",
       "  </tbody>\n",
       "</table>\n",
       "</div>"
      ],
      "text/plain": [
       "                                            reactant  \\\n",
       "0                                CC(C)(C)c1ccc(O)cc1   \n",
       "1  CC(C)c1ccccc1.O=C(Cl)CCCCl.[Al+3].[Cl-].[Cl-]....   \n",
       "2    Cc1ccccc1.O=C(Cl)CCCCl.[Al+3].[Cl-].[Cl-].[Cl-]   \n",
       "3  CC(C)c1ccc(C(=O)CCCCl)cc1.O=C(OOC(=O)c1ccccc1)...   \n",
       "4          CC(C)c1ccc(C(=O)CCCCl)cc1.O=C1CCC(=O)N1Br   \n",
       "\n",
       "                                 reagent                        product  \n",
       "0                                   [Ni]            CC(C)(C)C1CCC(O)CC1  \n",
       "1                                  ClCCl      CC(C)c1ccc(C(=O)CCCCl)cc1  \n",
       "2                                                 Cc1ccc(C(=O)CCCCl)cc1  \n",
       "3                          ClC(Cl)(Cl)Cl  CC(C)(Br)c1ccc(C(=O)CCCCl)cc1  \n",
       "4  CC(C)(C#N)N=NC(C)(C)C#N.ClC(Cl)(Cl)Cl  CC(C)(Br)c1ccc(C(=O)CCCCl)cc1  "
      ]
     },
     "execution_count": 115,
     "metadata": {},
     "output_type": "execute_result"
    }
   ],
   "source": [
    "data_df.head()"
   ]
  },
  {
   "cell_type": "code",
   "execution_count": 119,
   "metadata": {},
   "outputs": [
    {
     "data": {
      "text/plain": [
       "pandas.core.frame.DataFrame"
      ]
     },
     "execution_count": 119,
     "metadata": {},
     "output_type": "execute_result"
    }
   ],
   "source": [
    "empty_rows = data_df[data_df.isnull().any(axis=1)]\n"
   ]
  },
  {
   "cell_type": "code",
   "execution_count": 123,
   "metadata": {},
   "outputs": [
    {
     "data": {
      "text/html": [
       "<div>\n",
       "<style scoped>\n",
       "    .dataframe tbody tr th:only-of-type {\n",
       "        vertical-align: middle;\n",
       "    }\n",
       "\n",
       "    .dataframe tbody tr th {\n",
       "        vertical-align: top;\n",
       "    }\n",
       "\n",
       "    .dataframe thead th {\n",
       "        text-align: right;\n",
       "    }\n",
       "</style>\n",
       "<table border=\"1\" class=\"dataframe\">\n",
       "  <thead>\n",
       "    <tr style=\"text-align: right;\">\n",
       "      <th></th>\n",
       "      <th>reactant</th>\n",
       "      <th>reagent</th>\n",
       "      <th>product</th>\n",
       "    </tr>\n",
       "  </thead>\n",
       "  <tbody>\n",
       "    <tr>\n",
       "      <th>1025</th>\n",
       "      <td>CNc1ccc(C(=O)OC)cc1.COCO[C@H]1CCN(C[C@@H](O)c2...</td>\n",
       "      <td></td>\n",
       "      <td>None</td>\n",
       "    </tr>\n",
       "    <tr>\n",
       "      <th>3372</th>\n",
       "      <td>None</td>\n",
       "      <td>ClCCl</td>\n",
       "      <td>COc1ccc2c(c1)CCC(Br)=C2c1ccc(OCCN2CCCC2)nc1</td>\n",
       "    </tr>\n",
       "    <tr>\n",
       "      <th>9732</th>\n",
       "      <td>None</td>\n",
       "      <td></td>\n",
       "      <td>CC(=O)c1cccc(NC(=O)Oc2ccc([N+](=O)[O-])cc2)c1</td>\n",
       "    </tr>\n",
       "    <tr>\n",
       "      <th>10965</th>\n",
       "      <td>None</td>\n",
       "      <td>C1CCOC1</td>\n",
       "      <td>O=C(NC1(CO)CC1)OCc1ccccc1</td>\n",
       "    </tr>\n",
       "    <tr>\n",
       "      <th>18325</th>\n",
       "      <td>None</td>\n",
       "      <td>C1CCOC1.ClC(Cl)Cl.[Pd].c1ccc(P(c2ccccc2)c2cccc...</td>\n",
       "      <td>O=C1c2ccccc2C(=O)N1CCc1c(-c2ccccc2)[nH]c2ccc([...</td>\n",
       "    </tr>\n",
       "    <tr>\n",
       "      <th>...</th>\n",
       "      <td>...</td>\n",
       "      <td>...</td>\n",
       "      <td>...</td>\n",
       "    </tr>\n",
       "    <tr>\n",
       "      <th>222348</th>\n",
       "      <td>ClP(Cl)(Cl)(Cl)Cl.O=C(O)c1ccccc1-c1c2ccc(=O)cc...</td>\n",
       "      <td>Clc1ccccc1</td>\n",
       "      <td>None</td>\n",
       "    </tr>\n",
       "    <tr>\n",
       "      <th>227322</th>\n",
       "      <td>None</td>\n",
       "      <td>Clc1ccccc1</td>\n",
       "      <td>CC(C)n1c(Br)c(-c2ccc(F)cc2)c2ccccc21</td>\n",
       "    </tr>\n",
       "    <tr>\n",
       "      <th>229458</th>\n",
       "      <td>None</td>\n",
       "      <td>CC(=O)O.O</td>\n",
       "      <td>N#Cc1c(O)c2c(-c3ccc(Cl)cc3)c(Br)sc2[nH]c1=O</td>\n",
       "    </tr>\n",
       "    <tr>\n",
       "      <th>244230</th>\n",
       "      <td>O=S(=O)(O)O.OO.[Na+].[O-][Cl+2]([O-])[O-]</td>\n",
       "      <td></td>\n",
       "      <td>None</td>\n",
       "    </tr>\n",
       "    <tr>\n",
       "      <th>249844</th>\n",
       "      <td>None</td>\n",
       "      <td>CCN(CC)CC</td>\n",
       "      <td>NC(=O)C(=O)N1CCc2ccc(OCc3cccc(F)c3)cc2CC1</td>\n",
       "    </tr>\n",
       "  </tbody>\n",
       "</table>\n",
       "<p>74 rows × 3 columns</p>\n",
       "</div>"
      ],
      "text/plain": [
       "                                                 reactant  \\\n",
       "1025    CNc1ccc(C(=O)OC)cc1.COCO[C@H]1CCN(C[C@@H](O)c2...   \n",
       "3372                                                 None   \n",
       "9732                                                 None   \n",
       "10965                                                None   \n",
       "18325                                                None   \n",
       "...                                                   ...   \n",
       "222348  ClP(Cl)(Cl)(Cl)Cl.O=C(O)c1ccccc1-c1c2ccc(=O)cc...   \n",
       "227322                                               None   \n",
       "229458                                               None   \n",
       "244230          O=S(=O)(O)O.OO.[Na+].[O-][Cl+2]([O-])[O-]   \n",
       "249844                                               None   \n",
       "\n",
       "                                                  reagent  \\\n",
       "1025                                                        \n",
       "3372                                                ClCCl   \n",
       "9732                                                        \n",
       "10965                                             C1CCOC1   \n",
       "18325   C1CCOC1.ClC(Cl)Cl.[Pd].c1ccc(P(c2ccccc2)c2cccc...   \n",
       "...                                                   ...   \n",
       "222348                                         Clc1ccccc1   \n",
       "227322                                         Clc1ccccc1   \n",
       "229458                                          CC(=O)O.O   \n",
       "244230                                                      \n",
       "249844                                          CCN(CC)CC   \n",
       "\n",
       "                                                  product  \n",
       "1025                                                 None  \n",
       "3372          COc1ccc2c(c1)CCC(Br)=C2c1ccc(OCCN2CCCC2)nc1  \n",
       "9732        CC(=O)c1cccc(NC(=O)Oc2ccc([N+](=O)[O-])cc2)c1  \n",
       "10965                           O=C(NC1(CO)CC1)OCc1ccccc1  \n",
       "18325   O=C1c2ccccc2C(=O)N1CCc1c(-c2ccccc2)[nH]c2ccc([...  \n",
       "...                                                   ...  \n",
       "222348                                               None  \n",
       "227322               CC(C)n1c(Br)c(-c2ccc(F)cc2)c2ccccc21  \n",
       "229458        N#Cc1c(O)c2c(-c3ccc(Cl)cc3)c(Br)sc2[nH]c1=O  \n",
       "244230                                               None  \n",
       "249844          NC(=O)C(=O)N1CCc2ccc(OCc3cccc(F)c3)cc2CC1  \n",
       "\n",
       "[74 rows x 3 columns]"
      ]
     },
     "execution_count": 123,
     "metadata": {},
     "output_type": "execute_result"
    }
   ],
   "source": [
    "data_df[data_df.isnull().any(axis=1)]"
   ]
  },
  {
   "cell_type": "code",
   "execution_count": 124,
   "metadata": {},
   "outputs": [
    {
     "data": {
      "text/plain": [
       "array(['O=S(=O)(O)O.OO.[Na+].[O-][Cl+2]([O-])[O-]', '', None],\n",
       "      dtype=object)"
      ]
     },
     "execution_count": 124,
     "metadata": {},
     "output_type": "execute_result"
    }
   ],
   "source": [
    "data_df.values[244230]"
   ]
  },
  {
   "cell_type": "code",
   "execution_count": 125,
   "metadata": {},
   "outputs": [],
   "source": [
    "data = pd.read_csv('ustpo250k.csv')"
   ]
  },
  {
   "cell_type": "code",
   "execution_count": 126,
   "metadata": {},
   "outputs": [
    {
     "data": {
      "text/html": [
       "<div>\n",
       "<style scoped>\n",
       "    .dataframe tbody tr th:only-of-type {\n",
       "        vertical-align: middle;\n",
       "    }\n",
       "\n",
       "    .dataframe tbody tr th {\n",
       "        vertical-align: top;\n",
       "    }\n",
       "\n",
       "    .dataframe thead th {\n",
       "        text-align: right;\n",
       "    }\n",
       "</style>\n",
       "<table border=\"1\" class=\"dataframe\">\n",
       "  <thead>\n",
       "    <tr style=\"text-align: right;\">\n",
       "      <th></th>\n",
       "      <th>reactant</th>\n",
       "      <th>reagent</th>\n",
       "      <th>product</th>\n",
       "    </tr>\n",
       "  </thead>\n",
       "  <tbody>\n",
       "    <tr>\n",
       "      <th>0</th>\n",
       "      <td>[C:1]([C:5]1[CH:10]=[CH:9][C:8]([OH:11])=[CH:7...</td>\n",
       "      <td>[Ni]</td>\n",
       "      <td>[C:1]([CH:5]1[CH2:6][CH2:7][CH:8]([OH:11])[CH2...</td>\n",
       "    </tr>\n",
       "    <tr>\n",
       "      <th>1</th>\n",
       "      <td>[Cl-].[Al+3].[Cl-].[Cl-].[Cl:5][CH2:6][CH2:7][...</td>\n",
       "      <td>C(Cl)Cl</td>\n",
       "      <td>[Cl:5][CH2:6][CH2:7][CH2:8][C:9]([C:15]1[CH:16...</td>\n",
       "    </tr>\n",
       "    <tr>\n",
       "      <th>2</th>\n",
       "      <td>[Al+3].[Cl-].[Cl-].[Cl-].[Cl:5][CH2:6][CH2:7][...</td>\n",
       "      <td>NaN</td>\n",
       "      <td>[Cl:5][CH2:6][CH2:7][CH2:8][C:9]([C:15]1[CH:16...</td>\n",
       "    </tr>\n",
       "    <tr>\n",
       "      <th>3</th>\n",
       "      <td>[Cl:1][CH2:2][CH2:3][CH2:4][C:5]([C:7]1[CH:12]...</td>\n",
       "      <td>C(Cl)(Cl)(Cl)Cl</td>\n",
       "      <td>[Br:16][C:13]([C:10]1[CH:9]=[CH:8][C:7]([C:5](...</td>\n",
       "    </tr>\n",
       "    <tr>\n",
       "      <th>4</th>\n",
       "      <td>[Cl:1][CH2:2][CH2:3][CH2:4][C:5]([C:7]1[CH:12]...</td>\n",
       "      <td>C(Cl)(Cl)(Cl)Cl.CC(N=NC(C#N)(C)C)(C#N)C</td>\n",
       "      <td>[Br:16][C:13]([C:10]1[CH:9]=[CH:8][C:7]([C:5](...</td>\n",
       "    </tr>\n",
       "  </tbody>\n",
       "</table>\n",
       "</div>"
      ],
      "text/plain": [
       "                                            reactant  \\\n",
       "0  [C:1]([C:5]1[CH:10]=[CH:9][C:8]([OH:11])=[CH:7...   \n",
       "1  [Cl-].[Al+3].[Cl-].[Cl-].[Cl:5][CH2:6][CH2:7][...   \n",
       "2  [Al+3].[Cl-].[Cl-].[Cl-].[Cl:5][CH2:6][CH2:7][...   \n",
       "3  [Cl:1][CH2:2][CH2:3][CH2:4][C:5]([C:7]1[CH:12]...   \n",
       "4  [Cl:1][CH2:2][CH2:3][CH2:4][C:5]([C:7]1[CH:12]...   \n",
       "\n",
       "                                   reagent  \\\n",
       "0                                     [Ni]   \n",
       "1                                  C(Cl)Cl   \n",
       "2                                      NaN   \n",
       "3                          C(Cl)(Cl)(Cl)Cl   \n",
       "4  C(Cl)(Cl)(Cl)Cl.CC(N=NC(C#N)(C)C)(C#N)C   \n",
       "\n",
       "                                             product  \n",
       "0  [C:1]([CH:5]1[CH2:6][CH2:7][CH:8]([OH:11])[CH2...  \n",
       "1  [Cl:5][CH2:6][CH2:7][CH2:8][C:9]([C:15]1[CH:16...  \n",
       "2  [Cl:5][CH2:6][CH2:7][CH2:8][C:9]([C:15]1[CH:16...  \n",
       "3  [Br:16][C:13]([C:10]1[CH:9]=[CH:8][C:7]([C:5](...  \n",
       "4  [Br:16][C:13]([C:10]1[CH:9]=[CH:8][C:7]([C:5](...  "
      ]
     },
     "execution_count": 126,
     "metadata": {},
     "output_type": "execute_result"
    }
   ],
   "source": [
    "data.head()"
   ]
  },
  {
   "cell_type": "code",
   "execution_count": 158,
   "metadata": {},
   "outputs": [
    {
     "data": {
      "text/plain": [
       "array(['[C:1]([C:5]1[CH:10]=[CH:9][C:8]([OH:11])=[CH:7][CH:6]=1)([CH3:4])([CH3:3])[CH3:2]',\n",
       "       '[Ni]',\n",
       "       '[C:1]([CH:5]1[CH2:6][CH2:7][CH:8]([OH:11])[CH2:9][CH2:10]1)([CH3:4])([CH3:2])[CH3:3]'],\n",
       "      dtype=object)"
      ]
     },
     "execution_count": 158,
     "metadata": {},
     "output_type": "execute_result"
    }
   ],
   "source": [
    "data.values[0]"
   ]
  },
  {
   "cell_type": "code",
   "execution_count": 173,
   "metadata": {},
   "outputs": [],
   "source": [
    "df = data_df.dropna()"
   ]
  },
  {
   "cell_type": "code",
   "execution_count": 177,
   "metadata": {},
   "outputs": [],
   "source": [
    "df.to_csv('ustpo250k_standard.csv', index=False)"
   ]
  },
  {
   "cell_type": "code",
   "execution_count": null,
   "metadata": {},
   "outputs": [],
   "source": []
  }
 ],
 "metadata": {
  "kernelspec": {
   "display_name": "rec",
   "language": "python",
   "name": "python3"
  },
  "language_info": {
   "codemirror_mode": {
    "name": "ipython",
    "version": 3
   },
   "file_extension": ".py",
   "mimetype": "text/x-python",
   "name": "python",
   "nbconvert_exporter": "python",
   "pygments_lexer": "ipython3",
   "version": "3.7.16"
  }
 },
 "nbformat": 4,
 "nbformat_minor": 2
}
