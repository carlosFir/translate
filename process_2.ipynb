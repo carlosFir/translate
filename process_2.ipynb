{
 "cells": [
  {
   "cell_type": "code",
   "execution_count": 1,
   "metadata": {},
   "outputs": [],
   "source": [
    "import numpy as np \n",
    "import pandas as pd\n",
    "\n",
    "data_df = pd.read_csv('ustpo250k_standard.csv')"
   ]
  },
  {
   "cell_type": "code",
   "execution_count": 2,
   "metadata": {},
   "outputs": [
    {
     "data": {
      "text/html": [
       "<div>\n",
       "<style scoped>\n",
       "    .dataframe tbody tr th:only-of-type {\n",
       "        vertical-align: middle;\n",
       "    }\n",
       "\n",
       "    .dataframe tbody tr th {\n",
       "        vertical-align: top;\n",
       "    }\n",
       "\n",
       "    .dataframe thead th {\n",
       "        text-align: right;\n",
       "    }\n",
       "</style>\n",
       "<table border=\"1\" class=\"dataframe\">\n",
       "  <thead>\n",
       "    <tr style=\"text-align: right;\">\n",
       "      <th></th>\n",
       "      <th>reactant</th>\n",
       "      <th>reagent</th>\n",
       "      <th>product</th>\n",
       "    </tr>\n",
       "  </thead>\n",
       "  <tbody>\n",
       "    <tr>\n",
       "      <th>0</th>\n",
       "      <td>CC(C)(C)c1ccc(O)cc1</td>\n",
       "      <td>[Ni]</td>\n",
       "      <td>CC(C)(C)C1CCC(O)CC1</td>\n",
       "    </tr>\n",
       "    <tr>\n",
       "      <th>1</th>\n",
       "      <td>CC(C)c1ccccc1.O=C(Cl)CCCCl.[Al+3].[Cl-].[Cl-]....</td>\n",
       "      <td>ClCCl</td>\n",
       "      <td>CC(C)c1ccc(C(=O)CCCCl)cc1</td>\n",
       "    </tr>\n",
       "    <tr>\n",
       "      <th>2</th>\n",
       "      <td>Cc1ccccc1.O=C(Cl)CCCCl.[Al+3].[Cl-].[Cl-].[Cl-]</td>\n",
       "      <td>NaN</td>\n",
       "      <td>Cc1ccc(C(=O)CCCCl)cc1</td>\n",
       "    </tr>\n",
       "    <tr>\n",
       "      <th>3</th>\n",
       "      <td>CC(C)c1ccc(C(=O)CCCCl)cc1.O=C(OOC(=O)c1ccccc1)...</td>\n",
       "      <td>ClC(Cl)(Cl)Cl</td>\n",
       "      <td>CC(C)(Br)c1ccc(C(=O)CCCCl)cc1</td>\n",
       "    </tr>\n",
       "    <tr>\n",
       "      <th>4</th>\n",
       "      <td>CC(C)c1ccc(C(=O)CCCCl)cc1.O=C1CCC(=O)N1Br</td>\n",
       "      <td>CC(C)(C#N)N=NC(C)(C)C#N.ClC(Cl)(Cl)Cl</td>\n",
       "      <td>CC(C)(Br)c1ccc(C(=O)CCCCl)cc1</td>\n",
       "    </tr>\n",
       "  </tbody>\n",
       "</table>\n",
       "</div>"
      ],
      "text/plain": [
       "                                            reactant  \\\n",
       "0                                CC(C)(C)c1ccc(O)cc1   \n",
       "1  CC(C)c1ccccc1.O=C(Cl)CCCCl.[Al+3].[Cl-].[Cl-]....   \n",
       "2    Cc1ccccc1.O=C(Cl)CCCCl.[Al+3].[Cl-].[Cl-].[Cl-]   \n",
       "3  CC(C)c1ccc(C(=O)CCCCl)cc1.O=C(OOC(=O)c1ccccc1)...   \n",
       "4          CC(C)c1ccc(C(=O)CCCCl)cc1.O=C1CCC(=O)N1Br   \n",
       "\n",
       "                                 reagent                        product  \n",
       "0                                   [Ni]            CC(C)(C)C1CCC(O)CC1  \n",
       "1                                  ClCCl      CC(C)c1ccc(C(=O)CCCCl)cc1  \n",
       "2                                    NaN          Cc1ccc(C(=O)CCCCl)cc1  \n",
       "3                          ClC(Cl)(Cl)Cl  CC(C)(Br)c1ccc(C(=O)CCCCl)cc1  \n",
       "4  CC(C)(C#N)N=NC(C)(C)C#N.ClC(Cl)(Cl)Cl  CC(C)(Br)c1ccc(C(=O)CCCCl)cc1  "
      ]
     },
     "execution_count": 2,
     "metadata": {},
     "output_type": "execute_result"
    }
   ],
   "source": [
    "data_df.shape\n",
    "data_df.head()"
   ]
  },
  {
   "cell_type": "code",
   "execution_count": 3,
   "metadata": {},
   "outputs": [],
   "source": [
    "data = []\n",
    "sep = '>'\n",
    "non = ''\n",
    "for row in data_df.values:\n",
    "    line = ''\n",
    "\n",
    "    for i, con in enumerate(row):\n",
    "  \n",
    "        if type(con) == float:\n",
    "            con = non\n",
    "\n",
    "        line += con\n",
    "        if i != 2:\n",
    "            line += sep\n",
    "        \n",
    "    data.append(line)\n"
   ]
  },
  {
   "cell_type": "code",
   "execution_count": 4,
   "metadata": {},
   "outputs": [
    {
     "data": {
      "text/plain": [
       "249926"
      ]
     },
     "execution_count": 4,
     "metadata": {},
     "output_type": "execute_result"
    }
   ],
   "source": [
    "len(data)"
   ]
  },
  {
   "cell_type": "code",
   "execution_count": 7,
   "metadata": {},
   "outputs": [],
   "source": [
    "# 打开文件，写入列表内容\n",
    "with open('ustpo250k_list.txt', 'w') as file:\n",
    "    for item in data:\n",
    "        line = item + '\\n'\n",
    "        file.write(line)"
   ]
  },
  {
   "cell_type": "code",
   "execution_count": null,
   "metadata": {},
   "outputs": [],
   "source": []
  }
 ],
 "metadata": {
  "kernelspec": {
   "display_name": "rec",
   "language": "python",
   "name": "python3"
  },
  "language_info": {
   "codemirror_mode": {
    "name": "ipython",
    "version": 3
   },
   "file_extension": ".py",
   "mimetype": "text/x-python",
   "name": "python",
   "nbconvert_exporter": "python",
   "pygments_lexer": "ipython3",
   "version": "3.7.16"
  }
 },
 "nbformat": 4,
 "nbformat_minor": 2
}
