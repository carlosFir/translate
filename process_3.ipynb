{
 "cells": [
  {
   "cell_type": "code",
   "execution_count": 45,
   "metadata": {},
   "outputs": [],
   "source": [
    "import torchtext\n",
    "from sklearn.model_selection import train_test_split\n",
    "import tqdm\n",
    "import torch\n",
    "import numpy as np\n",
    "from matplotlib import pyplot as plt\n",
    "import os\n",
    "\n",
    "device = torch.device(\"cuda\" if torch.cuda.is_available() else \"cpu\")"
   ]
  },
  {
   "cell_type": "code",
   "execution_count": 46,
   "metadata": {},
   "outputs": [],
   "source": [
    "# preprocessing\n",
    "data = []\n",
    "with open('ustpo250k_list.txt', 'r') as f:\n",
    "    lines = f.readlines()\n",
    "    for line in lines:\n",
    "        line = line.strip()\n",
    "        data.append(line)\n",
    "\n",
    "pairs = []\n",
    "for item in data:\n",
    "    item = item.split('>')\n",
    "    src = item[0] + '>' + item[1]\n",
    "    tgt = item[2]\n",
    "    pair = [src, tgt]\n",
    "    pairs.append(pair)\n",
    "\n",
    "MAX_LENGTH = 48\n",
    "def filterPair(p):\n",
    "    return len(p[0]) < MAX_LENGTH and len(p[1]) < MAX_LENGTH  # startswith first arg must be str or a tuple of str\n",
    "new_pairs = [[pair[0], pair[1]] for pair in pairs if filterPair(pair)]\n",
    "\n",
    "train_pairs, val_pairs = train_test_split(new_pairs, test_size=0.2, random_state=1234)\n",
    "tokenizer = lambda x: [char for char in x]\n",
    "\n",
    "SRC_TEXT = torchtext.data.Field(sequential=True,\n",
    "                                tokenize=tokenizer,\n",
    "                                fix_length=MAX_LENGTH+2,\n",
    "                                preprocessing=lambda x: ['<start>'] + x + ['<end>'])\n",
    "\n",
    "TARG_TEXT = torchtext.data.Field(sequential=True,\n",
    "                                 tokenize=tokenizer,\n",
    "                                 fix_length=MAX_LENGTH+2,\n",
    "                                 preprocessing=lambda x: ['start'] + x + ['end'])\n",
    "\n",
    "def get_dataset(pairs, src, targ):\n",
    "    fields = [('src', src), ('targ', targ)]\n",
    "    examples = []\n",
    "    for rea, pro in pairs:\n",
    "        examples.append(torchtext.data.Example.fromlist([rea, pro], fields))\n",
    "    return examples, fields\n",
    "\n",
    "ds_train = torchtext.data.Dataset(*get_dataset(train_pairs, SRC_TEXT, TARG_TEXT))\n",
    "ds_val = torchtext.data.Dataset(*get_dataset(val_pairs, SRC_TEXT, TARG_TEXT))\n",
    "\n",
    "SRC_TEXT.build_vocab(ds_train)\n",
    "TARG_TEXT.vocab = SRC_TEXT.vocab\n",
    "\n",
    "ngpu = 1\n",
    "BATCH_SIZE = 1536\n",
    "\n",
    "train_iter, val_iter = torchtext.data.Iterator.splits(\n",
    "    (ds_train, ds_val),\n",
    "    sort_within_batch=True,\n",
    "    sort_key=lambda x: len(x.src),\n",
    "    batch_sizes=(BATCH_SIZE, BATCH_SIZE)\n",
    ")\n",
    "\n",
    "class DataLoader:\n",
    "    def __init__(self, data_iter):\n",
    "        self.data_iter = data_iter\n",
    "        self.length = len(data_iter)\n",
    "    \n",
    "    def __len__(self):\n",
    "        return self.length\n",
    "    \n",
    "    def __iter__(self):\n",
    "        for batch in self.data_iter:\n",
    "            yield (torch.transpose(batch.src, 0, 1), torch.transpose(batch.targ, 0, 1))\n",
    "\n",
    "train_dataloader = DataLoader(train_iter)\n",
    "val_dataloader = DataLoader(val_iter)"
   ]
  },
  {
   "cell_type": "markdown",
   "metadata": {},
   "source": [
    "2.positional encoding"
   ]
  },
  {
   "cell_type": "code",
   "execution_count": 47,
   "metadata": {},
   "outputs": [],
   "source": [
    "def get_angles(pos, i, d_model):\n",
    "    angle_rates = 1 / np.power(10000, 2 * (i // 2) / np.float32(d_model))\n",
    "    return pos * angle_rates\n",
    "\n",
    "def positional_encoding(position, d_model):\n",
    "    angle_rads = get_angles(np.arange(position)[:, np.newaxis],\n",
    "                            np.arange(d_model)[np.newaxis, :],\n",
    "                            d_model)\n",
    "    angle_rads[:, 0::2] = np.sin(angle_rads[:, 0::2])\n",
    "    angle_rads[:, 1::2] = np.cos(angle_rads[:, 1::2])\n",
    "\n",
    "    pos_encoding = angle_rads[np.newaxis, ...]\n",
    "    return torch.tensor(pos_encoding, dtype=torch.float32)\n",
    "\n",
    "\n",
    "cwd = os.getcwd()\n",
    "\n",
    "def draw_pos_encoding(pos_encoding):\n",
    "    plt.figure()\n",
    "    plt.pcolormesh(pos_encoding[0], cmap='RdBu')\n",
    "    plt.xlabel('Depth')\n",
    "    plt.xlim((0, 512))\n",
    "    plt.ylabel('Position')\n",
    "    plt.colorbar()\n",
    "    plt.savefig(cwd + '/imgs_ustpo/pos_encoding.png')\n",
    "    plt.show()\n",
    "\n",
    "\n"
   ]
  },
  {
   "cell_type": "markdown",
   "metadata": {},
   "source": [
    "3.mask\n"
   ]
  },
  {
   "cell_type": "code",
   "execution_count": 48,
   "metadata": {},
   "outputs": [],
   "source": [
    "pad = 1\n",
    "\n",
    "def create_padding_mask(seq):\n",
    "    seq = torch.eq(seq, torch.tensor(pad)).float() # \n",
    "    return seq[:, np.newaxis, np.newaxis, :]\n",
    "\n",
    "def create_look_ahead_mask(size):\n",
    "    mask = torch.triu(torch.ones((size, size)), diagonal=1)\n",
    "    return mask\n"
   ]
  },
  {
   "cell_type": "markdown",
   "metadata": {},
   "source": [
    "4.scaled dot product attn"
   ]
  },
  {
   "cell_type": "code",
   "execution_count": 49,
   "metadata": {},
   "outputs": [],
   "source": [
    "def scaled_dot_product_attention(q, k, v, mask=None):\n",
    "    matmul_qk = torch.matmul(q, k.transpose(-1, -2))\n",
    "    dk = torch.tensor(k.shape[-1], dtype=torch.float32)\n",
    "    scaled_attention_logits = matmul_qk / torch.sqrt(dk)\n",
    "\n",
    "    if mask is not None:\n",
    "        scaled_attention_logits += (mask * 1e-9)\n",
    "    \n",
    "    attention_weights = torch.nn.functional.softmax(scaled_attention_logits, dim=-1)\n",
    "\n",
    "    output = torch.matmul(attention_weights, v)\n",
    "\n",
    "    return output, attention_weights\n",
    "\n",
    "def print_out(q, k, v):\n",
    "    temp_out, temp_attn = scaled_dot_product_attention(q, k, v, None)\n",
    "    print('Attention weights are:')\n",
    "    print(temp_attn)\n",
    "    print('Output is:')\n",
    "    print(temp_out)\n",
    "\n",
    "np.set_printoptions(suppress=True)\n",
    "torch.set_printoptions(sci_mode=False)\n",
    "\n"
   ]
  },
  {
   "cell_type": "markdown",
   "metadata": {},
   "source": [
    "5.multi-head attention\n"
   ]
  },
  {
   "cell_type": "markdown",
   "metadata": {},
   "source": []
  },
  {
   "cell_type": "code",
   "execution_count": 50,
   "metadata": {},
   "outputs": [],
   "source": [
    "class MultiHeadAttention(torch.nn.Module):\n",
    "    def __init__(self, d_model, num_heads):\n",
    "        super(MultiHeadAttention, self).__init__()\n",
    "        self.num_heads = num_heads\n",
    "        self.d_model = d_model\n",
    "    \n",
    "        assert d_model % self.num_heads == 0\n",
    "\n",
    "        self.depth = d_model // self.num_heads\n",
    "\n",
    "        self.wq = torch.nn.Linear(d_model, d_model)\n",
    "        self.wk = torch.nn.Linear(d_model, d_model)\n",
    "        self.wv = torch.nn.Linear(d_model, d_model)\n",
    "\n",
    "        self.final_linear = torch.nn.Linear(d_model, d_model)\n",
    "\n",
    "    def split_heads(self, x, batch_size):\n",
    "        x = x.view(batch_size, -1, self.num_heads, self.depth)\n",
    "        return x.transpose(1, 2)\n",
    "    \n",
    "    def forward(self, q, k, v, mask):\n",
    "        batch_size = q.shape[0]\n",
    "\n",
    "        q = self.wq(q)\n",
    "        k = self.wk(k)\n",
    "        v = self.wv(v)\n",
    "\n",
    "        q = self.split_heads(q, batch_size)\n",
    "        k = self.split_heads(k, batch_size)\n",
    "        v = self.split_heads(v, batch_size)\n",
    "\n",
    "        scaled_attention, attention_weights = scaled_dot_product_attention(q, k, v, mask)\n",
    "\n",
    "        scaled_attention = scaled_attention.transpose(1, 2)\n",
    "        concat_attention = scaled_attention.reshape(batch_size, -1, self.d_model)\n",
    "\n",
    "        output = self.final_linear(concat_attention)\n",
    "        return output, attention_weights"
   ]
  },
  {
   "cell_type": "markdown",
   "metadata": {},
   "source": [
    "6.point wise ffn\n"
   ]
  },
  {
   "cell_type": "code",
   "execution_count": 51,
   "metadata": {},
   "outputs": [],
   "source": [
    "def point_wise_feed_forward_network(d_model, dff):\n",
    "    feed_forward_net = torch.nn.Sequential(\n",
    "        torch.nn.Linear(d_model, dff),\n",
    "        torch.nn.ReLU(),\n",
    "        torch.nn.Linear(dff, d_model)\n",
    "    )\n",
    "    return feed_forward_net\n",
    "\n"
   ]
  },
  {
   "cell_type": "markdown",
   "metadata": {},
   "source": [
    "7.encoder"
   ]
  },
  {
   "cell_type": "code",
   "execution_count": 52,
   "metadata": {},
   "outputs": [],
   "source": [
    "class EncoderLayer(torch.nn.Module):\n",
    "    def __init__(self, d_model, num_heads, dff, rate=0.1):\n",
    "        super(EncoderLayer, self).__init__()\n",
    "\n",
    "        self.mha = MultiHeadAttention(d_model, num_heads)\n",
    "        self.ffn = point_wise_feed_forward_network(d_model, dff)\n",
    "\n",
    "        self.layernorm1 = torch.nn.LayerNorm(normalized_shape=d_model, eps=1e-6)\n",
    "        self.layernorm2 = torch.nn.LayerNorm(normalized_shape=d_model, eps=1e-6)\n",
    "\n",
    "        self.dropout1 = torch.nn.Dropout(rate)\n",
    "        self.dropout2 = torch.nn.Dropout(rate)\n",
    "\n",
    "    def forward(self, x, mask):\n",
    "        attn_output, _ = self.mha(x, x, x, mask)\n",
    "        attn_output = self.dropout1(attn_output)\n",
    "        out1 = self.layernorm1(x + attn_output)\n",
    "\n",
    "        ffn_output = self.ffn(out1)\n",
    "        ffn_output = self.dropout2(attn_output)\n",
    "        out2 = self.layernorm2(out1 + ffn_output)\n",
    "\n",
    "        return out2"
   ]
  },
  {
   "cell_type": "code",
   "execution_count": 53,
   "metadata": {},
   "outputs": [],
   "source": [
    "class DecoderLayer(torch.nn.Module):\n",
    "    def __init__(self, d_model, num_heads, dff, rate=0.1):\n",
    "        super(DecoderLayer, self).__init__()\n",
    "\n",
    "        self.mha1 = MultiHeadAttention(d_model, num_heads)\n",
    "        self.mha2 = MultiHeadAttention(d_model, num_heads)\n",
    "\n",
    "        self.ffn = point_wise_feed_forward_network(d_model, dff)\n",
    "\n",
    "        self.layernorm1 = torch.nn.LayerNorm(normalized_shape=d_model, eps=1e-6)\n",
    "        self.layernorm2 = torch.nn.LayerNorm(normalized_shape=d_model, eps=1e-6)\n",
    "        self.layernorm3 = torch.nn.LayerNorm(normalized_shape=d_model, eps=1e-6)\n",
    "\n",
    "        self.dropout1 = torch.nn.Dropout(rate)\n",
    "        self.dropout2 = torch.nn.Dropout(rate)\n",
    "        self.dropout3 = torch.nn.Dropout(rate)\n",
    "\n",
    "    def forward(self, x, enc_output, look_ahead_mask, padding_mask):\n",
    "        attn1, attn_weights_block1 = self.mha1(x, x, x, look_ahead_mask)\n",
    "        attn1 = self.dropout1(attn1)\n",
    "        out1 = self.layernorm1(x + attn1)\n",
    "\n",
    "        attn2, attn_weights_block2 = self.mha2(out1, enc_output, enc_output, padding_mask)\n",
    "        attn2 = self.dropout2(attn2)\n",
    "        out2 = self.layernorm2(out1 + attn2)\n",
    "\n",
    "        ffn_output = self.ffn(out2)\n",
    "        ffn_output = self.dropout3(ffn_output)\n",
    "        out3 = self.layernorm3(out2 + ffn_output)\n",
    "\n",
    "        return out3, attn_weights_block1, attn_weights_block2\n"
   ]
  },
  {
   "cell_type": "markdown",
   "metadata": {},
   "source": [
    "9.encoder"
   ]
  },
  {
   "cell_type": "code",
   "execution_count": 54,
   "metadata": {},
   "outputs": [],
   "source": [
    "class Encoder(torch.nn.Module):\n",
    "    def __init__(self,\n",
    "                 num_layers,\n",
    "                 d_model,\n",
    "                 num_heads,\n",
    "                 dff,\n",
    "                 input_vocab_size,\n",
    "                 maximun_position_encoding,\n",
    "                 rate=0.1):\n",
    "        super(Encoder, self).__init__()\n",
    "\n",
    "        self.num_layers = num_layers\n",
    "        self.d_model = d_model\n",
    "\n",
    "        self.embedding = torch.nn.Embedding(num_embeddings=input_vocab_size, embedding_dim=d_model)\n",
    "        # print(maximun_position_encoding)\n",
    "        self.pos_encoding = positional_encoding(maximun_position_encoding, d_model)\n",
    "\n",
    "        self.enc_layers = torch.nn.ModuleList([EncoderLayer(d_model, num_heads, dff, rate) for _ in range(self.num_layers)])\n",
    "        self.dropout = torch.nn.Dropout(rate)\n",
    "\n",
    "    def forward(self, x, mask):\n",
    "        inp_sep_len = x.shape[-1]\n",
    "        # print(x.shape)\n",
    "        \n",
    "        x = self.embedding(x)\n",
    "        x *= torch.sqrt(torch.tensor(self.d_model, dtype=torch.float32))\n",
    "\n",
    "        pos_encoding = self.pos_encoding[:, :inp_sep_len, :]\n",
    "\n",
    "        pos_encoding = pos_encoding.cuda('cuda:0')\n",
    "        # print(x.shape, pos_encoding.shape)\n",
    "        x += pos_encoding\n",
    "\n",
    "        x = self.dropout(x)\n",
    "\n",
    "        for i in range(self.num_layers):\n",
    "            x = self.enc_layers[i](x, mask)\n",
    "        return x\n"
   ]
  },
  {
   "cell_type": "markdown",
   "metadata": {},
   "source": []
  },
  {
   "cell_type": "markdown",
   "metadata": {},
   "source": [
    "10.decoder\n"
   ]
  },
  {
   "cell_type": "code",
   "execution_count": 55,
   "metadata": {},
   "outputs": [],
   "source": [
    "class Decoder(torch.nn.Module):\n",
    "    def __init__(self,\n",
    "                 num_layers,\n",
    "                 d_model,\n",
    "                 num_heads,\n",
    "                 dff,\n",
    "                 target_vocab_size,\n",
    "                 maximun_position_encoding,\n",
    "                 rate=0.1):\n",
    "        super(Decoder, self).__init__()\n",
    "\n",
    "        self.num_layers = num_layers\n",
    "        self.d_model = d_model\n",
    "        \n",
    "        self.embedding = torch.nn.Embedding(num_embeddings=target_vocab_size, embedding_dim=d_model)\n",
    "        self.pos_encoding = positional_encoding(maximun_position_encoding, d_model)\n",
    "\n",
    "        self.dec_layers = torch.nn.ModuleList([DecoderLayer(d_model, num_heads, dff, rate) for _ in range(self.num_layers)])\n",
    "        self.dropout = torch.nn.Dropout(rate)\n",
    "\n",
    "    def forward(self, x, enc_output, look_ahead_mask, padding_mask):\n",
    "        targ_seq_len = x.shape[-1]\n",
    "        # print(targ_seq_len)\n",
    "        attention_weights = {}\n",
    "\n",
    "        x = self.embedding(x)\n",
    "        x *= torch.sqrt(torch.tensor(self.d_model, dtype=torch.float32))\n",
    "\n",
    "        pos_encoding = self.pos_encoding[:, :targ_seq_len, :]\n",
    "        \n",
    "        pos_encoding = pos_encoding.cuda('cuda:0')\n",
    "\n",
    "       \n",
    "        x += pos_encoding\n",
    "\n",
    "        x = self.dropout(x)\n",
    "\n",
    "        for i in range(self.num_layers):\n",
    "            x, attn_block1, attn_block2 = self.dec_layers[i](x, enc_output, look_ahead_mask, padding_mask)\n",
    "\n",
    "            attention_weights[f'decoder_layer{i + 1}_block1'] = attn_block1\n",
    "            attention_weights[f'decoder_layer{i + 1}_block2'] = attn_block2\n",
    "        \n",
    "        return x, attention_weights"
   ]
  },
  {
   "cell_type": "markdown",
   "metadata": {},
   "source": [
    "11.transformer\n"
   ]
  },
  {
   "cell_type": "code",
   "execution_count": 56,
   "metadata": {},
   "outputs": [],
   "source": [
    "class Transformer(torch.nn.Module):\n",
    "    def __init__(self,\n",
    "                 num_layers,\n",
    "                 d_model,\n",
    "                 num_heads,\n",
    "                 dff,\n",
    "                 input_vocab_size,\n",
    "                 target_vocab_size,\n",
    "                 pe_input,\n",
    "                 pe_target,\n",
    "                 rate=0.1):\n",
    "        super(Transformer, self).__init__()\n",
    "\n",
    "        self.encoder = Encoder(num_layers,\n",
    "                               d_model, \n",
    "                               num_heads,\n",
    "                               dff,\n",
    "                               input_vocab_size,\n",
    "                               pe_input,\n",
    "                               rate)\n",
    "        self.decoder = Decoder(num_layers,\n",
    "                               d_model, \n",
    "                               num_heads,\n",
    "                               dff,\n",
    "                               target_vocab_size,\n",
    "                               pe_target,\n",
    "                               rate)\n",
    "        self.final_layer = torch.nn.Linear(d_model, target_vocab_size)\n",
    "\n",
    "    def forward(self, inp, targ, enc_padding_mask, look_ahead_mask, dec_padding_mask):\n",
    "        enc_output = self.encoder(inp, enc_padding_mask)\n",
    "\n",
    "        dec_output, attention_weights = self.decoder(targ, enc_output, look_ahead_mask, dec_padding_mask)\n",
    "\n",
    "        final_output = self.final_layer(dec_output)\n",
    "\n",
    "        return final_output, attention_weights"
   ]
  },
  {
   "cell_type": "markdown",
   "metadata": {},
   "source": [
    "12.hyper params"
   ]
  },
  {
   "cell_type": "code",
   "execution_count": 57,
   "metadata": {},
   "outputs": [],
   "source": [
    "num_layers = 4\n",
    "d_model = 128\n",
    "dff = 512\n",
    "num_heads = 8\n",
    "\n",
    "input_vocab_size = len(SRC_TEXT.vocab)\n",
    "target_vocab_size = len(TARG_TEXT.vocab)\n",
    "dropout_rate = 0.1"
   ]
  },
  {
   "cell_type": "markdown",
   "metadata": {},
   "source": [
    "13. optimizer"
   ]
  },
  {
   "cell_type": "markdown",
   "metadata": {},
   "source": []
  },
  {
   "cell_type": "code",
   "execution_count": 58,
   "metadata": {},
   "outputs": [],
   "source": [
    "class CustomSchedule(torch.optim.lr_scheduler._LRScheduler):\n",
    "    def __init__(self, optimizer, d_model, warm_steps=4):\n",
    "        self.optimizer = optimizer\n",
    "        self.d_model = d_model\n",
    "        self.warmup_steps = warm_steps\n",
    "\n",
    "        super(CustomSchedule, self).__init__(optimizer)\n",
    "\n",
    "    def get_lr(self):\n",
    "        arg1 = self._step_count ** (-0.5)\n",
    "        arg2 = self._step_count * (self.warmup_steps ** -1.5)\n",
    "        dynamic_lr = (self.d_model ** (-0.5)) * min(arg1, arg2)\n",
    "\n",
    "        return [dynamic_lr for group in self.optimizer.param_groups]\n"
   ]
  },
  {
   "cell_type": "markdown",
   "metadata": {},
   "source": [
    "14.loss and metrics"
   ]
  },
  {
   "cell_type": "code",
   "execution_count": 59,
   "metadata": {},
   "outputs": [],
   "source": [
    "loss_object = torch.nn.CrossEntropyLoss(reduction='none')\n"
   ]
  },
  {
   "cell_type": "code",
   "execution_count": 60,
   "metadata": {},
   "outputs": [],
   "source": [
    "def mask_loss_function(real, pred):\n",
    "    _loss = loss_object(pred.transpose(-1, -2), real.to('cuda:0'))\n",
    "\n",
    "    mask = torch.logical_not(real.eq(pad)).type(_loss.dtype)\n",
    "\n",
    "    _loss *= mask\n",
    "\n",
    "    return _loss.sum() / mask.sum().item()"
   ]
  },
  {
   "cell_type": "markdown",
   "metadata": {},
   "source": [
    "2是batchsize 5是目标序列长度，6是目标词表大小\n",
    "对于长度5的序列中每一个token其归类到具体值都有6种可能，即6分类\n",
    "这里的词表ids为0-5\n",
    "示例数据的范围选在0-4或者0-5但不能超过"
   ]
  },
  {
   "cell_type": "markdown",
   "metadata": {},
   "source": [
    "loss的输出为（2， 5）5对应序列长度中的每个位置"
   ]
  },
  {
   "cell_type": "code",
   "execution_count": 61,
   "metadata": {},
   "outputs": [],
   "source": [
    "def mask_loss_function2(real, pred):\n",
    "    _loss = loss_object(pred.transpose(-1, -2), real)\n",
    "\n",
    "    mask = torch.logical_not(real.eq(pad))\n",
    "    _loss = _loss.masked_select(mask)\n",
    "    \n",
    "    return _loss.mean()"
   ]
  },
  {
   "cell_type": "code",
   "execution_count": 62,
   "metadata": {},
   "outputs": [],
   "source": [
    "def mask_accuracy_func(real, pred):\n",
    "    _pred = pred.argmax(dim=-1)\n",
    "    corrects = _pred.eq(real)\n",
    "\n",
    "    mask = torch.logical_not(real.eq(pad))\n",
    "\n",
    "    corrects *= mask\n",
    "\n",
    "    return corrects.sum().float() / mask.sum().item()"
   ]
  },
  {
   "cell_type": "code",
   "execution_count": 63,
   "metadata": {},
   "outputs": [],
   "source": [
    "def mask_accuracy_func2(real, pred):\n",
    "    _pred = pred.argmax(dim=-1)\n",
    "    corrects = _pred.eq(real).type(torch.float32)\n",
    "\n",
    "    mask = torch.logical_not(real.eq(pad))\n",
    "    corrects = corrects.masked_select(mask)\n",
    "\n",
    "    return corrects.mean()"
   ]
  },
  {
   "cell_type": "code",
   "execution_count": 64,
   "metadata": {},
   "outputs": [],
   "source": [
    "def mask_accuracy_func3(real, pred):\n",
    "    _pred = pred.argmax(dim=-1)\n",
    "    corrects = _pred.eq(real)\n",
    "\n",
    "    mask = torch.logical_not(real.eq(pad))\n",
    "    corrects = torch.logical_and(corrects, mask)\n",
    "\n",
    "    return corrects.sum().float() / mask.sum().item()"
   ]
  },
  {
   "cell_type": "markdown",
   "metadata": {},
   "source": [
    "15.mask generate"
   ]
  },
  {
   "cell_type": "code",
   "execution_count": 65,
   "metadata": {},
   "outputs": [],
   "source": [
    "def create_mask(inp, targ):\n",
    "    enc_padding_mask = create_padding_mask(inp)\n",
    "    look_ahead_mask = create_look_ahead_mask(targ.shape[-1])\n",
    "\n",
    "    dec_targ_padding_mask = create_padding_mask(targ)\n",
    "    combined_mask = torch.max(look_ahead_mask, dec_targ_padding_mask)\n",
    "\n",
    "    dec_padding_mask = create_padding_mask(inp)\n",
    "\n",
    "    return enc_padding_mask, combined_mask, dec_padding_mask\n",
    "    \n",
    "    "
   ]
  },
  {
   "cell_type": "markdown",
   "metadata": {},
   "source": [
    "16.train and save"
   ]
  },
  {
   "cell_type": "code",
   "execution_count": 66,
   "metadata": {},
   "outputs": [],
   "source": [
    "save_dir = cwd + '/save/'"
   ]
  },
  {
   "cell_type": "code",
   "execution_count": 67,
   "metadata": {},
   "outputs": [],
   "source": [
    "transformer = Transformer(num_layers,\n",
    "                          d_model, \n",
    "                          num_heads,\n",
    "                          dff,\n",
    "                          input_vocab_size,\n",
    "                          target_vocab_size,\n",
    "                          pe_input=input_vocab_size,\n",
    "                          pe_target=target_vocab_size,\n",
    "                          rate=dropout_rate)"
   ]
  },
  {
   "cell_type": "code",
   "execution_count": 68,
   "metadata": {},
   "outputs": [],
   "source": [
    "transformer = transformer.to(device)\n",
    "ngpu = 1\n",
    "device_list = [5,6,7]"
   ]
  },
  {
   "cell_type": "code",
   "execution_count": 69,
   "metadata": {},
   "outputs": [],
   "source": [
    "if ngpu > 1:\n",
    "    transformer = torch.nn.DataParallel(transformer, device_ids=device_list)"
   ]
  },
  {
   "cell_type": "code",
   "execution_count": 70,
   "metadata": {},
   "outputs": [],
   "source": [
    "optimizer = torch.optim.Adam(transformer.parameters(), lr=0.01)\n",
    "# lr_scheduler = CustomSchedule(optimizer, d_model, warm_steps=50)\n",
    "\n",
    "optimizer = torch.optim.SGD(transformer.parameters(), lr=0.1)\n",
    "# learning_rate = torch.optim.lr_scheduler.StepLR(optimizer, step_size=50, gamma=0.5)\n",
    "\n"
   ]
  },
  {
   "cell_type": "code",
   "execution_count": 71,
   "metadata": {},
   "outputs": [],
   "source": [
    "def train_step(model, inp, targ):\n",
    "    targ_inp = targ[:, :-1]\n",
    "    targ_real = targ[:, 1:]\n",
    "\n",
    "    enc_padding_mask, combined_mask, dec_padding_mask = create_mask(inp, targ_inp)\n",
    "\n",
    "    inp = inp.to(device)\n",
    "    targ_inp = targ_inp.to(device)\n",
    "    targ_real = targ_real.to(device)\n",
    "    enc_padding_mask = enc_padding_mask.to(device)\n",
    "    combined_mask = combined_mask.to(device)\n",
    "    dec_padding_mask = dec_padding_mask.to(device)\n",
    "\n",
    "    model.train()\n",
    "    optimizer.zero_grad()\n",
    "\n",
    "    prediction, _ = transformer(inp, targ_inp, enc_padding_mask, combined_mask, dec_padding_mask)\n",
    "\n",
    "    loss = mask_loss_function(targ_real.to('cuda:0'), prediction.to('cuda:0'))\n",
    "    metric = mask_accuracy_func(targ_real.to('cuda:0'), prediction.to('cuda:0'))\n",
    "\n",
    "    loss.backward()\n",
    "    optimizer.step()\n",
    "\n",
    "    return loss.item(), metric.item()\n"
   ]
  },
  {
   "cell_type": "code",
   "execution_count": 72,
   "metadata": {},
   "outputs": [],
   "source": [
    "def validate_step(model, inp, targ):\n",
    "    targ_inp = targ[:, :-1]\n",
    "    targ_real = targ[:, 1:]\n",
    "\n",
    "    enc_padding_mask, combined_mask, dec_padding_mask = create_mask(inp, targ_inp)\n",
    "\n",
    "    inp = inp.to(device)\n",
    "    targ_inp = targ_inp.to(device)\n",
    "    enc_padding_mask = enc_padding_mask.to(device)\n",
    "    combined_mask = combined_mask.to(device)\n",
    "    dec_padding_mask = dec_padding_mask.to(device)\n",
    "\n",
    "    model.eval()\n",
    "\n",
    "    with torch.no_grad():\n",
    "\n",
    "        prediction, _ = model(inp, targ_inp, enc_padding_mask, combined_mask, dec_padding_mask)\n",
    "\n",
    "        val_loss = mask_loss_function(targ_real.to('cuda:0'), prediction.to('cuda:0'))\n",
    "        val_metric = mask_accuracy_func(targ_real.to('cuda:0'), prediction.to('cuda:0'))\n",
    "    \n",
    "    return val_loss.item(), val_metric.item()"
   ]
  },
  {
   "cell_type": "code",
   "execution_count": 73,
   "metadata": {},
   "outputs": [],
   "source": [
    "EPOCHS = 50\n",
    "print_trainstep_every = 100\n",
    "metric_name = 'acc'\n",
    "\n",
    "import pandas as pd\n",
    "df_history = pd.DataFrame(columns=['epoch', 'loss', metric_name, 'val_loss', 'val_' + metric_name])\n",
    "import datetime\n",
    "def printbar():\n",
    "    nowtime = datetime.datetime.now().strftime('%Y-%m_%d %H:%M:%S')\n",
    "    print('\\n' + \"========\"*8 + '%s'%nowtime)\n"
   ]
  },
  {
   "cell_type": "code",
   "execution_count": 74,
   "metadata": {},
   "outputs": [],
   "source": [
    "import time\n",
    "import copy\n",
    "def train_model(model, epochs, train_dataloader, val_dataloader, print_every):\n",
    "    starttime = time.time()\n",
    "    print('*' * 27, 'start training...')\n",
    "    printbar()\n",
    "\n",
    "    best_acc = 0.\n",
    "    for epoch in range(1, epochs + 1):\n",
    "\n",
    "        loss_sum = 0.\n",
    "        metric_sum = 0.\n",
    "\n",
    "        for step, (inp, targ) in enumerate(train_dataloader, start=1):\n",
    "            loss, metric = train_step(model, inp, targ)\n",
    "            loss_sum += loss\n",
    "            metric_sum += metric\n",
    "\n",
    "            if step % print_every == 0:\n",
    "                print('*' * 8, f'[step = {step}] loss: {loss_sum / step:.3f}, {metric_name}: {metric_sum / step:.3f}')\n",
    "            \n",
    "     \n",
    "        val_loss_sum = 0.\n",
    "        val_metric_sum = 0. \n",
    "        for val_step, (inp, targ) in enumerate(val_dataloader, start=1):\n",
    "            loss, metric = validate_step(model, inp, targ)\n",
    "            val_loss_sum += loss\n",
    "            val_metric_sum += metric\n",
    "\n",
    "        \n",
    "        record = (epoch, loss_sum / step, metric_sum / step, val_loss_sum / val_step, val_metric_sum / val_step)\n",
    "        df_history.loc[epoch - 1] = record\n",
    "\n",
    "        print('EPOCH = {} loss: {:.3f}, {}: {:.3f}, val_loss: {:.3f}, val_{}: {:.3f}'.format(\n",
    "            record[0], record[1], metric_name, record[2], record[3], metric_name, record[4]))\n",
    "        \n",
    "        printbar()\n",
    "\n",
    "        \n",
    "    checkpoint = save_dir + 'last.tar'\n",
    "\n",
    "    if device.type == 'cuda' and ngpu > 1:\n",
    "        model_sd = copy.deepcopy(model.module.state_dict())\n",
    "    else:\n",
    "        model_sd = copy.deepcopy(model.state_dict())\n",
    "    \n",
    "    torch.save({\n",
    "        'loss': loss_sum / step,\n",
    "        'epoch': epoch,\n",
    "        'net': model_sd,\n",
    "        'opt': optimizer.state_dict()\n",
    "    }, checkpoint)\n",
    "        \n",
    "    print('finishing training...')\n",
    "    endtime = time.time()\n",
    "    time_elapsed = endtime - starttime\n",
    "    print('Training complete in {:.0f}m {:.0f}s'.format(time_elapsed // 60, time_elapsed % 60))\n",
    "    return df_history\n",
    "\n",
    "                "
   ]
  },
  {
   "cell_type": "code",
   "execution_count": 75,
   "metadata": {},
   "outputs": [
    {
     "data": {
      "text/plain": [
       "1873337"
      ]
     },
     "execution_count": 75,
     "metadata": {},
     "output_type": "execute_result"
    }
   ],
   "source": [
    "def count_parameters(model):\n",
    "    return sum(p.numel() for p in model.parameters() if p.requires_grad)\n",
    "\n",
    "count_parameters(transformer)"
   ]
  },
  {
   "cell_type": "code",
   "execution_count": 76,
   "metadata": {},
   "outputs": [
    {
     "name": "stdout",
     "output_type": "stream",
     "text": [
      "*************************** start training...\n",
      "\n",
      "================================================================2024-01_30 19:54:12\n"
     ]
    },
    {
     "name": "stdout",
     "output_type": "stream",
     "text": [
      "EPOCH = 1 loss: 2.517, acc: 0.309, val_loss: 2.089, val_acc: 0.369\n",
      "\n",
      "================================================================2024-01_30 19:54:17\n",
      "EPOCH = 2 loss: 1.978, acc: 0.389, val_loss: 1.844, val_acc: 0.415\n",
      "\n",
      "================================================================2024-01_30 19:54:23\n",
      "EPOCH = 3 loss: 1.860, acc: 0.406, val_loss: 1.780, val_acc: 0.415\n",
      "\n",
      "================================================================2024-01_30 19:54:29\n",
      "EPOCH = 4 loss: 1.781, acc: 0.425, val_loss: 1.722, val_acc: 0.424\n",
      "\n",
      "================================================================2024-01_30 19:54:35\n",
      "EPOCH = 5 loss: 1.736, acc: 0.429, val_loss: 1.669, val_acc: 0.446\n",
      "\n",
      "================================================================2024-01_30 19:54:41\n",
      "EPOCH = 6 loss: 1.695, acc: 0.438, val_loss: 1.636, val_acc: 0.446\n",
      "\n",
      "================================================================2024-01_30 19:54:47\n",
      "EPOCH = 7 loss: 1.674, acc: 0.437, val_loss: 1.614, val_acc: 0.456\n",
      "\n",
      "================================================================2024-01_30 19:54:53\n",
      "EPOCH = 8 loss: 1.646, acc: 0.444, val_loss: 1.613, val_acc: 0.453\n",
      "\n",
      "================================================================2024-01_30 19:54:59\n",
      "EPOCH = 9 loss: 1.628, acc: 0.445, val_loss: 1.587, val_acc: 0.445\n",
      "\n",
      "================================================================2024-01_30 19:55:04\n",
      "EPOCH = 10 loss: 1.607, acc: 0.450, val_loss: 1.564, val_acc: 0.458\n",
      "\n",
      "================================================================2024-01_30 19:55:10\n",
      "EPOCH = 11 loss: 1.599, acc: 0.447, val_loss: 1.557, val_acc: 0.464\n",
      "\n",
      "================================================================2024-01_30 19:55:16\n",
      "EPOCH = 12 loss: 1.584, acc: 0.450, val_loss: 1.556, val_acc: 0.447\n",
      "\n",
      "================================================================2024-01_30 19:55:22\n",
      "EPOCH = 13 loss: 1.567, acc: 0.456, val_loss: 1.540, val_acc: 0.452\n",
      "\n",
      "================================================================2024-01_30 19:55:28\n",
      "EPOCH = 14 loss: 1.565, acc: 0.451, val_loss: 1.529, val_acc: 0.468\n",
      "\n",
      "================================================================2024-01_30 19:55:34\n",
      "EPOCH = 15 loss: 1.554, acc: 0.455, val_loss: 1.535, val_acc: 0.448\n",
      "\n",
      "================================================================2024-01_30 19:55:39\n",
      "EPOCH = 16 loss: 1.540, acc: 0.460, val_loss: 1.498, val_acc: 0.467\n",
      "\n",
      "================================================================2024-01_30 19:55:45\n",
      "EPOCH = 17 loss: 1.532, acc: 0.460, val_loss: 1.503, val_acc: 0.470\n",
      "\n",
      "================================================================2024-01_30 19:55:51\n",
      "EPOCH = 18 loss: 1.531, acc: 0.458, val_loss: 1.514, val_acc: 0.451\n",
      "\n",
      "================================================================2024-01_30 19:55:57\n",
      "EPOCH = 19 loss: 1.518, acc: 0.462, val_loss: 1.480, val_acc: 0.470\n",
      "\n",
      "================================================================2024-01_30 19:56:03\n",
      "EPOCH = 20 loss: 1.514, acc: 0.461, val_loss: 1.485, val_acc: 0.469\n",
      "\n",
      "================================================================2024-01_30 19:56:09\n",
      "EPOCH = 21 loss: 1.508, acc: 0.463, val_loss: 1.489, val_acc: 0.451\n",
      "\n",
      "================================================================2024-01_30 19:56:15\n",
      "EPOCH = 22 loss: 1.511, acc: 0.458, val_loss: 1.469, val_acc: 0.472\n",
      "\n",
      "================================================================2024-01_30 19:56:20\n",
      "EPOCH = 23 loss: 1.495, acc: 0.466, val_loss: 1.478, val_acc: 0.468\n",
      "\n",
      "================================================================2024-01_30 19:56:26\n",
      "EPOCH = 24 loss: 1.490, acc: 0.467, val_loss: 1.475, val_acc: 0.460\n",
      "\n",
      "================================================================2024-01_30 19:56:32\n",
      "EPOCH = 25 loss: 1.489, acc: 0.464, val_loss: 1.453, val_acc: 0.477\n",
      "\n",
      "================================================================2024-01_30 19:56:38\n",
      "EPOCH = 26 loss: 1.481, acc: 0.468, val_loss: 1.455, val_acc: 0.470\n",
      "\n",
      "================================================================2024-01_30 19:56:44\n",
      "EPOCH = 27 loss: 1.477, acc: 0.468, val_loss: 1.454, val_acc: 0.464\n",
      "\n",
      "================================================================2024-01_30 19:56:50\n",
      "EPOCH = 28 loss: 1.474, acc: 0.466, val_loss: 1.441, val_acc: 0.478\n",
      "\n",
      "================================================================2024-01_30 19:56:56\n",
      "EPOCH = 29 loss: 1.468, acc: 0.469, val_loss: 1.444, val_acc: 0.469\n",
      "\n",
      "================================================================2024-01_30 19:57:01\n",
      "EPOCH = 30 loss: 1.464, acc: 0.472, val_loss: 1.425, val_acc: 0.481\n",
      "\n",
      "================================================================2024-01_30 19:57:07\n",
      "EPOCH = 31 loss: 1.460, acc: 0.470, val_loss: 1.437, val_acc: 0.476\n",
      "\n",
      "================================================================2024-01_30 19:57:13\n",
      "EPOCH = 32 loss: 1.461, acc: 0.469, val_loss: 1.442, val_acc: 0.467\n",
      "\n",
      "================================================================2024-01_30 19:57:19\n",
      "EPOCH = 33 loss: 1.455, acc: 0.471, val_loss: 1.425, val_acc: 0.481\n",
      "\n",
      "================================================================2024-01_30 19:57:25\n",
      "EPOCH = 34 loss: 1.446, acc: 0.475, val_loss: 1.423, val_acc: 0.479\n",
      "\n",
      "================================================================2024-01_30 19:57:31\n",
      "EPOCH = 35 loss: 1.442, acc: 0.475, val_loss: 1.428, val_acc: 0.469\n",
      "\n",
      "================================================================2024-01_30 19:57:37\n",
      "EPOCH = 36 loss: 1.447, acc: 0.470, val_loss: 1.422, val_acc: 0.481\n",
      "\n",
      "================================================================2024-01_30 19:57:43\n",
      "EPOCH = 37 loss: 1.443, acc: 0.473, val_loss: 1.428, val_acc: 0.473\n",
      "\n",
      "================================================================2024-01_30 19:57:49\n",
      "EPOCH = 38 loss: 1.435, acc: 0.477, val_loss: 1.401, val_acc: 0.486\n",
      "\n",
      "================================================================2024-01_30 19:57:54\n",
      "EPOCH = 39 loss: 1.434, acc: 0.475, val_loss: 1.406, val_acc: 0.481\n",
      "\n",
      "================================================================2024-01_30 19:58:00\n",
      "EPOCH = 40 loss: 1.433, acc: 0.474, val_loss: 1.416, val_acc: 0.471\n",
      "\n",
      "================================================================2024-01_30 19:58:06\n",
      "EPOCH = 41 loss: 1.431, acc: 0.475, val_loss: 1.389, val_acc: 0.488\n",
      "\n",
      "================================================================2024-01_30 19:58:12\n",
      "EPOCH = 42 loss: 1.425, acc: 0.478, val_loss: 1.399, val_acc: 0.485\n",
      "\n",
      "================================================================2024-01_30 19:58:18\n",
      "EPOCH = 43 loss: 1.414, acc: 0.483, val_loss: 1.387, val_acc: 0.489\n",
      "\n",
      "================================================================2024-01_30 19:58:24\n",
      "EPOCH = 44 loss: 1.422, acc: 0.475, val_loss: 1.394, val_acc: 0.482\n",
      "\n",
      "================================================================2024-01_30 19:58:29\n",
      "EPOCH = 45 loss: 1.422, acc: 0.475, val_loss: 1.411, val_acc: 0.469\n",
      "\n",
      "================================================================2024-01_30 19:58:35\n",
      "EPOCH = 46 loss: 1.417, acc: 0.477, val_loss: 1.386, val_acc: 0.487\n",
      "\n",
      "================================================================2024-01_30 19:58:41\n",
      "EPOCH = 47 loss: 1.410, acc: 0.482, val_loss: 1.390, val_acc: 0.486\n",
      "\n",
      "================================================================2024-01_30 19:58:47\n",
      "EPOCH = 48 loss: 1.409, acc: 0.482, val_loss: 1.377, val_acc: 0.491\n",
      "\n",
      "================================================================2024-01_30 19:58:53\n",
      "EPOCH = 49 loss: 1.409, acc: 0.479, val_loss: 1.386, val_acc: 0.487\n",
      "\n",
      "================================================================2024-01_30 19:58:59\n",
      "EPOCH = 50 loss: 1.408, acc: 0.478, val_loss: 1.398, val_acc: 0.470\n",
      "\n",
      "================================================================2024-01_30 19:59:05\n",
      "finishing training...\n",
      "Training complete in 4m 53s\n"
     ]
    }
   ],
   "source": [
    "df_history = train_model(transformer, EPOCHS, train_dataloader, val_dataloader, print_trainstep_every)\n"
   ]
  },
  {
   "cell_type": "code",
   "execution_count": 77,
   "metadata": {},
   "outputs": [
    {
     "data": {
      "image/png": "[encoded data removed]",
      "text/plain": [
       "<Figure size 640x480 with 1 Axes>"
      ]
     },
     "metadata": {},
     "output_type": "display_data"
    },
    {
     "data": {
      "image/png": "[encoded data removed]",
      "text/plain": [
       "<Figure size 640x480 with 1 Axes>"
      ]
     },
     "metadata": {},
     "output_type": "display_data"
    }
   ],
   "source": [
    "def plot_metric(df_history, metric):\n",
    "    plt.figure()\n",
    "\n",
    "    train_metrics = df_history[metric]\n",
    "    val_metrics = df_history['val_' + metric]\n",
    "\n",
    "    epochs = range(1, len(train_metrics) + 1)\n",
    "\n",
    "    plt.plot(epochs, train_metrics, 'bo--')\n",
    "    plt.plot(epochs, val_metrics, 'ro-')\n",
    "\n",
    "    plt.title('Training and validation ' + metric)\n",
    "    plt.xlabel('Epochs')\n",
    "    plt.ylabel(metric)\n",
    "    plt.legend(['train_' + metric, 'val_' + metric])\n",
    "    plt.savefig(cwd + '/imgs/' + metric + '.png')\n",
    "    plt.show()\n",
    "\n",
    "plot_metric(df_history, 'loss')\n",
    "plot_metric(df_history, metric_name)\n",
    "    "
   ]
  },
  {
   "cell_type": "code",
   "execution_count": 78,
   "metadata": {},
   "outputs": [
    {
     "name": "stdout",
     "output_type": "stream",
     "text": [
      "/home/Zhouyu/MODEL/translate/save/last.tar\n"
     ]
    }
   ],
   "source": [
    "checkpoint = save_dir + 'last.tar'\n",
    "print(checkpoint)"
   ]
  },
  {
   "cell_type": "code",
   "execution_count": 79,
   "metadata": {},
   "outputs": [
    {
     "name": "stdout",
     "output_type": "stream",
     "text": [
      "Loading model...\n",
      "Model loaded...\n"
     ]
    }
   ],
   "source": [
    "ckpt = torch.load(checkpoint)\n",
    "transformer_sd = ckpt['net']\n",
    "\n",
    "reload_model = Transformer(\n",
    "    num_layers,\n",
    "    d_model,\n",
    "    num_heads,\n",
    "    dff,\n",
    "    input_vocab_size,\n",
    "    target_vocab_size,\n",
    "    pe_input=input_vocab_size,\n",
    "    pe_target=target_vocab_size,\n",
    "    rate=dropout_rate\n",
    ")\n",
    "\n",
    "\n",
    "reload_model = reload_model.to(device)\n",
    "\n",
    "print('Loading model...')\n",
    "if device.type == 'cuda' and ngpu > 1:\n",
    "    reload_model.module.load_state_dict(transformer_sd)\n",
    "else:\n",
    "    reload_model.load_state_dict(transformer_sd)\n",
    "\n",
    "print('Model loaded...') "
   ]
  },
  {
   "cell_type": "code",
   "execution_count": 80,
   "metadata": {},
   "outputs": [
    {
     "name": "stdout",
     "output_type": "stream",
     "text": [
      "******** final test...\n"
     ]
    },
    {
     "name": "stdout",
     "output_type": "stream",
     "text": [
      "******** Test: loss: 1.398, test_acc: 0.470\n"
     ]
    }
   ],
   "source": [
    "def test(model, dataloader):\n",
    "    test_loss_sum = 0. \n",
    "    test_metric_sum = 0.\n",
    "\n",
    "    for test_step, (inp, targ) in enumerate(dataloader, start=1):\n",
    "        loss, metric = validate_step(model, inp, targ)\n",
    "        test_loss_sum += loss\n",
    "        test_metric_sum += metric\n",
    "    \n",
    "    print('*' * 8,\n",
    "          'Test: loss: {:.3f}, {}: {:.3f}'.format(test_loss_sum / test_step, 'test_acc', test_metric_sum / test_step))\n",
    "    \n",
    "print('*' * 8, 'final test...')\n",
    "test(reload_model, val_dataloader)"
   ]
  },
  {
   "cell_type": "code",
   "execution_count": 81,
   "metadata": {},
   "outputs": [],
   "source": [
    "def tokenizer_encode(tokenize, sentence, vocab):\n",
    "    sentence = tokenize(sentence)\n",
    "    sentence = ['<start>'] + sentence + ['<end>']\n",
    "    sentence_ids = [vocab.stoi[token] for token in sentence]\n",
    "    return sentence_ids\n",
    "\n",
    "def tokenizer_decode(sentence_ids, vocab):\n",
    "    sentence = [vocab.itos[id] for id in sentence_ids if id < len(vocab)]\n",
    "    return \" \".join(sentence)\n"
   ]
  },
  {
   "cell_type": "code",
   "execution_count": 82,
   "metadata": {},
   "outputs": [],
   "source": [
    "def evaluate(model, inp_sentence):\n",
    "    model.eval()\n",
    "\n",
    "    inp_sentence_ids = tokenizer_encode(tokenizer, inp_sentence, SRC_TEXT.vocab)\n",
    "    encoder_input = torch.tensor(inp_sentence_ids).unsqueeze(0)\n",
    "    # print(encoder_input.shape)\n",
    "    decoder_input = [TARG_TEXT.vocab.stoi['<start>']]\n",
    "    decoder_input = torch.tensor(decoder_input).unsqueeze(0)\n",
    "\n",
    "    with torch.no_grad():\n",
    "        for i in range(MAX_LENGTH + 1):\n",
    "            # print(i)\n",
    "            enc_padding_mask, combined_mask, dec_padding_mask = create_mask(encoder_input.cpu(), decoder_input.cpu())\n",
    "\n",
    "            encoder_input = encoder_input.to(device)\n",
    "            decoder_input = decoder_input.to(device)\n",
    "            enc_padding_mask = enc_padding_mask.to(device)\n",
    "            combined_mask = combined_mask.to(device)\n",
    "            dec_padding_mask = dec_padding_mask.to(device)\n",
    "            # print(decoder_input.shape)\n",
    "            prediction, attention_weights = model(encoder_input,\n",
    "                                                  decoder_input,\n",
    "                                                  enc_padding_mask,\n",
    "                                                  combined_mask,\n",
    "                                                  dec_padding_mask)\n",
    "            prediction = prediction[:, -1:, :]\n",
    "            prediction_id = torch.argmax(prediction, dim=-1)\n",
    "            if prediction_id.squeeze().item() == TARG_TEXT.vocab.stoi['<end>']:\n",
    "                return decoder_input.squeeze(0), attention_weights\n",
    "            \n",
    "            decoder_input = torch.cat([decoder_input, prediction_id], dim=-1)\n",
    "    return decoder_input.squeeze(0), attention_weights\n"
   ]
  },
  {
   "cell_type": "code",
   "execution_count": 83,
   "metadata": {},
   "outputs": [],
   "source": [
    "sentence_pairs = [\n",
    "    ['C#CCC(C)C.CN(c1ccc(C(O)(c2ccc(Cl)cc2)C(F)', 'CC(C)CC#CC(O)(c1ccc(N(C)S(=O)(=O)c2ccccc2)cc1)C(F)(F)F'],\n",
    "    ['CN(C[C@@H]1CC[C@@H](COC/C=C/CBr)CC1)S(=O)', 'CC(=O)N(C)C>CN(C[C@@H]1CC[C@@H](COC/C=C/CN(CCO)CCO)CC1)S(=O)(=O)c1ccc(C(F)(F)F)cc1']\n",
    "\n",
    "]"
   ]
  },
  {
   "cell_type": "code",
   "execution_count": 84,
   "metadata": {},
   "outputs": [],
   "source": [
    "def batch_translate(sentence_pairs):\n",
    "    for pair in sentence_pairs:\n",
    "        print(\"input: \", pair[0])\n",
    "        print(\"target: \", pair[1])\n",
    "\n",
    "        pred_result, _ = evaluate(reload_model, pair[0])\n",
    "        pred_sentence = tokenizer_decode(pred_result, TARG_TEXT.vocab)\n",
    "        print('pred: ', pred_sentence)\n",
    "        "
   ]
  },
  {
   "cell_type": "code",
   "execution_count": 85,
   "metadata": {},
   "outputs": [
    {
     "name": "stdout",
     "output_type": "stream",
     "text": [
      "input:  C#CCC(C)C.CN(c1ccc(C(O)(c2ccc(Cl)cc2)C(F)\n",
      "target:  CC(C)CC#CC(O)(c1ccc(N(C)S(=O)(=O)c2ccccc2)cc1)C(F)(F)F\n"
     ]
    },
    {
     "name": "stdout",
     "output_type": "stream",
     "text": [
      "pred:  <start> C C C C C C C C C C C C C C C C C C C C C C C C C C C C C C C C C C C C C C C C C C C C C C C C C\n",
      "input:  CN(C[C@@H]1CC[C@@H](COC/C=C/CBr)CC1)S(=O)\n",
      "target:  CC(=O)N(C)C>CN(C[C@@H]1CC[C@@H](COC/C=C/CN(CCO)CCO)CC1)S(=O)(=O)c1ccc(C(F)(F)F)cc1\n",
      "pred:  <start> 1 <unk> C 1 C 1 C 1 C 1 C 1 C 1 C 1 C 1 C 1 C 1 C 1 C 1 C 1 C 1 C 1 C 1 C 1 C 1 C 1 C 1 C 1 C 1 C 1 C\n"
     ]
    }
   ],
   "source": [
    "batch_translate(sentence_pairs)"
   ]
  },
  {
   "cell_type": "code",
   "execution_count": 86,
   "metadata": {},
   "outputs": [],
   "source": [
    "def plot_attention_weights(attention, sentence, pred_sentence, layer):\n",
    "    '''sentence = sentence.split()\n",
    "    pred_sentence = pred_sentence.split()'''\n",
    "\n",
    "    sentence = [char for char in sentence]\n",
    "    pred_sentence = [char for char in pred_sentence]\n",
    "\n",
    "    fig = plt.figure(figsize=(16, 16))\n",
    "\n",
    "    attention = torch.squeeze(attention[layer], dim=0)\n",
    "\n",
    "    for head in range(1):\n",
    "        ax = fig.add_subplot(1, 1, 1)\n",
    "        cax = ax.matshow(attention[head].cpu(), cmap='viridis')\n",
    "\n",
    "        fontdict = {'fontsize': 10}\n",
    "\n",
    "        ax.set_xticks(range(len(sentence) + 2))\n",
    "        ax.set_yticks(range(len(pred_sentence)))\n",
    "\n",
    "        ax.set_ylim(len(pred_sentence) - 1.5, -0.5)\n",
    "\n",
    "        ax.set_xticklabels(['<start>'] + sentence + ['<end>'], fontdict=fontdict, rotation=90)\n",
    "        ax.set_yticklabels(pred_sentence, fontdict=fontdict)\n",
    "\n",
    "        ax.set_xlabel('Head {}'.format(head + 1))\n",
    "    \n",
    "    plt.tight_layout()\n",
    "    plt.show()\n",
    "    "
   ]
  },
  {
   "cell_type": "code",
   "execution_count": 87,
   "metadata": {},
   "outputs": [],
   "source": [
    "def translate(sentence_pairs, plot=None):\n",
    "    print('input:', sentence_pairs[0])\n",
    "    print('target:', sentence_pairs[1])\n",
    "\n",
    "    pred_result, attention_weights = evaluate(reload_model, sentence_pairs[0])\n",
    "    print('attention_weights:', attention_weights.keys())\n",
    "    pred_sentence = tokenizer_decode(pred_result, TARG_TEXT.vocab)\n",
    "    print('pred:', pred_sentence)\n",
    "\n",
    "    if plot:\n",
    "        plot_attention_weights(attention_weights, sentence_pairs[0], pred_sentence, plot)"
   ]
  },
  {
   "cell_type": "code",
   "execution_count": 88,
   "metadata": {},
   "outputs": [
    {
     "name": "stdout",
     "output_type": "stream",
     "text": [
      "input: C#CCC(C)C.CN(c1ccc(C(O)(c2ccc(Cl)cc2)C(F)\n",
      "target: CC(C)CC#CC(O)(c1ccc(N(C)S(=O)(=O)c2ccccc2)cc1)C(F)(F)F\n",
      "attention_weights: dict_keys(['decoder_layer1_block1', 'decoder_layer1_block2', 'decoder_layer2_block1', 'decoder_layer2_block2', 'decoder_layer3_block1', 'decoder_layer3_block2', 'decoder_layer4_block1', 'decoder_layer4_block2'])\n",
      "pred: <start> C C C C C C C C C C C C C C C C C C C C C C C C C C C C C C C C C C C C C C C C C C C C C C C C C\n"
     ]
    },
    {
     "data": {
      "image/png": "[encoded data removed]",
      "text/plain": [
       "<Figure size 1600x1600 with 1 Axes>"
      ]
     },
     "metadata": {},
     "output_type": "display_data"
    }
   ],
   "source": [
    "translate(sentence_pairs[0], plot='decoder_layer4_block2')"
   ]
  },
  {
   "cell_type": "code",
   "execution_count": null,
   "metadata": {},
   "outputs": [],
   "source": []
  }
 ],
 "metadata": {
  "kernelspec": {
   "display_name": "rec",
   "language": "python",
   "name": "python3"
  },
  "language_info": {
   "codemirror_mode": {
    "name": "ipython",
    "version": 3
   },
   "file_extension": ".py",
   "mimetype": "text/x-python",
   "name": "python",
   "nbconvert_exporter": "python",
   "pygments_lexer": "ipython3",
   "version": "3.7.16"
  }
 },
 "nbformat": 4,
 "nbformat_minor": 2
}
